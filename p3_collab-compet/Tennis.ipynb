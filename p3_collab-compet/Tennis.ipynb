{
 "cells": [
  {
   "cell_type": "markdown",
   "metadata": {},
   "source": [
    "# Collaboration and Competition\n",
    "\n",
    "---\n",
    "\n",
    "In this notebook, you will learn how to use the Unity ML-Agents environment for the third project of the [Deep Reinforcement Learning Nanodegree](https://www.udacity.com/course/deep-reinforcement-learning-nanodegree--nd893) program.\n",
    "\n",
    "### 1. Start the Environment\n",
    "\n",
    "We begin by importing the necessary packages.  If the code cell below returns an error, please revisit the project instructions to double-check that you have installed [Unity ML-Agents](https://github.com/Unity-Technologies/ml-agents/blob/master/docs/Installation.md) and [NumPy](http://www.numpy.org/)."
   ]
  },
  {
   "cell_type": "code",
   "execution_count": 1,
   "metadata": {},
   "outputs": [],
   "source": [
    "from unityagents import UnityEnvironment\n",
    "import numpy as np"
   ]
  },
  {
   "cell_type": "markdown",
   "metadata": {},
   "source": [
    "Next, we will start the environment!  **_Before running the code cell below_**, change the `file_name` parameter to match the location of the Unity environment that you downloaded.\n",
    "\n",
    "- **Mac**: `\"path/to/Tennis.app\"`\n",
    "- **Windows** (x86): `\"path/to/Tennis_Windows_x86/Tennis.exe\"`\n",
    "- **Windows** (x86_64): `\"path/to/Tennis_Windows_x86_64/Tennis.exe\"`\n",
    "- **Linux** (x86): `\"path/to/Tennis_Linux/Tennis.x86\"`\n",
    "- **Linux** (x86_64): `\"path/to/Tennis_Linux/Tennis.x86_64\"`\n",
    "- **Linux** (x86, headless): `\"path/to/Tennis_Linux_NoVis/Tennis.x86\"`\n",
    "- **Linux** (x86_64, headless): `\"path/to/Tennis_Linux_NoVis/Tennis.x86_64\"`\n",
    "\n",
    "For instance, if you are using a Mac, then you downloaded `Tennis.app`.  If this file is in the same folder as the notebook, then the line below should appear as follows:\n",
    "```\n",
    "env = UnityEnvironment(file_name=\"Tennis.app\")\n",
    "```"
   ]
  },
  {
   "cell_type": "code",
   "execution_count": 2,
   "metadata": {},
   "outputs": [
    {
     "name": "stderr",
     "output_type": "stream",
     "text": [
      "INFO:unityagents:\n",
      "'Academy' started successfully!\n",
      "Unity Academy name: Academy\n",
      "        Number of Brains: 1\n",
      "        Number of External Brains : 1\n",
      "        Lesson number : 0\n",
      "        Reset Parameters :\n",
      "\t\t\n",
      "Unity brain name: TennisBrain\n",
      "        Number of Visual Observations (per agent): 0\n",
      "        Vector Observation space type: continuous\n",
      "        Vector Observation space size (per agent): 8\n",
      "        Number of stacked Vector Observation: 3\n",
      "        Vector Action space type: continuous\n",
      "        Vector Action space size (per agent): 2\n",
      "        Vector Action descriptions: , \n"
     ]
    }
   ],
   "source": [
    "\n",
    "env = UnityEnvironment(file_name=\"./Tennis_Linux_NoVis/Tennis\")"
   ]
  },
  {
   "cell_type": "markdown",
   "metadata": {},
   "source": [
    "Environments contain **_brains_** which are responsible for deciding the actions of their associated agents. Here we check for the first brain available, and set it as the default brain we will be controlling from Python."
   ]
  },
  {
   "cell_type": "code",
   "execution_count": 3,
   "metadata": {},
   "outputs": [],
   "source": [
    "# get the default brain\n",
    "brain_name = env.brain_names[0]\n",
    "brain = env.brains[brain_name]"
   ]
  },
  {
   "cell_type": "markdown",
   "metadata": {},
   "source": [
    "### 2. Examine the State and Action Spaces\n",
    "\n",
    "In this environment, two agents control rackets to bounce a ball over a net. If an agent hits the ball over the net, it receives a reward of +0.1.  If an agent lets a ball hit the ground or hits the ball out of bounds, it receives a reward of -0.01.  Thus, the goal of each agent is to keep the ball in play.\n",
    "\n",
    "The observation space consists of 8 variables corresponding to the position and velocity of the ball and racket. Two continuous actions are available, corresponding to movement toward (or away from) the net, and jumping. \n",
    "\n",
    "Run the code cell below to print some information about the environment."
   ]
  },
  {
   "cell_type": "code",
   "execution_count": 4,
   "metadata": {},
   "outputs": [
    {
     "name": "stdout",
     "output_type": "stream",
     "text": [
      "Number of agents: 2\n",
      "Size of each action: 2\n",
      "There are 2 agents. Each observes a state with length: 24\n",
      "The state for the first agent looks like: [ 0.          0.          0.          0.          0.          0.\n",
      "  0.          0.          0.          0.          0.          0.\n",
      "  0.          0.          0.          0.         -6.65278625 -1.5\n",
      " -0.          0.          6.83172083  6.         -0.          0.        ]\n"
     ]
    }
   ],
   "source": [
    "# reset the environment\n",
    "env_info = env.reset(train_mode=True)[brain_name]\n",
    "\n",
    "# number of agents \n",
    "num_agents = len(env_info.agents)\n",
    "print('Number of agents:', num_agents)\n",
    "\n",
    "# size of each action\n",
    "action_size = brain.vector_action_space_size\n",
    "print('Size of each action:', action_size)\n",
    "\n",
    "# examine the state space \n",
    "states = env_info.vector_observations\n",
    "state_size = states.shape[1]\n",
    "print('There are {} agents. Each observes a state with length: {}'.format(states.shape[0], state_size))\n",
    "print('The state for the first agent looks like:', states[0])"
   ]
  },
  {
   "cell_type": "markdown",
   "metadata": {},
   "source": [
    "### 3. Take Random Actions in the Environment\n",
    "\n",
    "In the next code cell, you will learn how to use the Python API to control the agents and receive feedback from the environment.\n",
    "\n",
    "Once this cell is executed, you will watch the agents' performance, if they select actions at random with each time step.  A window should pop up that allows you to observe the agents.\n",
    "\n",
    "Of course, as part of the project, you'll have to change the code so that the agents are able to use their experiences to gradually choose better actions when interacting with the environment!"
   ]
  },
  {
   "cell_type": "code",
   "execution_count": 5,
   "metadata": {},
   "outputs": [],
   "source": [
    "# for i in range(1, 6):                                      # play game for 5 episodes\n",
    "#     env_info = env.reset(train_mode=False)[brain_name]     # reset the environment    \n",
    "#     states = env_info.vector_observations                  # get the current state (for each agent)\n",
    "#     scores = np.zeros(num_agents)                          # initialize the score (for each agent)\n",
    "#     while True:\n",
    "#         actions = np.random.randn(num_agents, action_size) # select an action (for each agent)\n",
    "#         actions = np.clip(actions, -1, 1)                  # all actions between -1 and 1\n",
    "#         env_info = env.step(actions)[brain_name]           # send all actions to tne environment\n",
    "#         next_states = env_info.vector_observations         # get next state (for each agent)\n",
    "#         rewards = env_info.rewards                         # get reward (for each agent)\n",
    "#         dones = env_info.local_done                        # see if episode finished\n",
    "#         scores += env_info.rewards                         # update the score (for each agent)\n",
    "#         states = next_states                               # roll over states to next time step\n",
    "#         if np.any(dones):                                  # exit loop if episode finished\n",
    "#             break\n",
    "#     print('Score (max over agents) from episode {}: {}'.format(i, np.max(scores)))"
   ]
  },
  {
   "cell_type": "markdown",
   "metadata": {},
   "source": [
    "When finished, you can close the environment."
   ]
  },
  {
   "cell_type": "code",
   "execution_count": 6,
   "metadata": {},
   "outputs": [],
   "source": [
    "# env.close()"
   ]
  },
  {
   "cell_type": "markdown",
   "metadata": {},
   "source": [
    "### 4. It's Your Turn!\n",
    "\n",
    "Now it's your turn to train your own agent to solve the environment!  When training the environment, set `train_mode=True`, so that the line for resetting the environment looks like the following:\n",
    "```python\n",
    "env_info = env.reset(train_mode=True)[brain_name]\n",
    "```"
   ]
  },
  {
   "cell_type": "code",
   "execution_count": 7,
   "metadata": {},
   "outputs": [],
   "source": [
    "from collections import deque"
   ]
  },
  {
   "cell_type": "code",
   "execution_count": 8,
   "metadata": {},
   "outputs": [],
   "source": [
    "import random\n",
    "import torch\n",
    "from collections import deque\n",
    "import matplotlib.pyplot as plt\n",
    "import time\n",
    "%matplotlib inline\n",
    "\n",
    "from ddpg_agent import Agent\n",
    "\n",
    "env_info = env.reset(train_mode=True)[brain_name]\n",
    "agent = Agent(state_size=state_size, action_size=action_size, random_seed=2)"
   ]
  },
  {
   "cell_type": "code",
   "execution_count": 9,
   "metadata": {},
   "outputs": [
    {
     "name": "stdout",
     "output_type": "stream",
     "text": [
      "CPU times: user 0 ns, sys: 0 ns, total: 0 ns\n",
      "Wall time: 5.96 µs\n"
     ]
    }
   ],
   "source": [
    "%%time\n",
    "def ddpg(n_episodes=3000, max_t=1000):\n",
    "    agent  = Agent(state_size, action_size, random_seed = 2)\n",
    "    NUM_STEPS_TO_UPDATE = 10 # Update agent after n steps\n",
    "\n",
    "    avg_score = []\n",
    "    chkpt_episodes = 20\n",
    "    scores_deque = deque(maxlen=100)\n",
    "    time_steps = 20\n",
    "    num_update = 10\n",
    "    len_agents = len(str(num_agents))\n",
    "    \n",
    "    env_solv = False\n",
    "        \n",
    "    agent_kwargs = {\"state_size\": state_size, \"action_size\": action_size, \"random_seed\": 2,}\n",
    "    agents = [Agent(**agent_kwargs) for _ in range(num_agents)]\n",
    "    assert len(agents) == num_agents\n",
    "\n",
    "    \n",
    "    for i_episode in range(1, n_episodes+1):\n",
    "        scores = np.zeros(num_agents)\n",
    "        env_info = env.reset(train_mode=True)[brain_name]\n",
    "        states = env_info.vector_observations                  # get the current state (for each agent)\n",
    "        agent.reset()\n",
    "        \n",
    "        for t in range(max_t):\n",
    "            actions = agent.act(states)\n",
    "            \n",
    "            env_info = env.step(actions)[brain_name]\n",
    "            next_states = env_info.vector_observations         # get next state (for each agent)\n",
    "            rewards = env_info.rewards                         # get reward (for each agent)\n",
    "            dones = env_info.local_done                        # see if episode finished\n",
    "            agent.save_exp_in_replay(states, actions, rewards, next_states, dones)\n",
    "\n",
    "            if t%NUM_STEPS_TO_UPDATE == 0:\n",
    "                    agent.step(states, actions, rewards, next_states, dones)\n",
    "            states  = next_states\n",
    "            scores += rewards                                  # update the score (for each agent)\n",
    "            if np.any(dones):                                  # exit loop if episode finished\n",
    "                break\n",
    "                \n",
    "        score = np.max(scores)        \n",
    "        avg_score.append(score)\n",
    "        scores_deque.append(score)\n",
    "\n",
    "        avg = np.average(scores_deque)\n",
    "            \n",
    "            \n",
    "        print('\\rEpisode {}\\tEpisode Score: {:.2f}\\tAverage Score: {:.2f} \\tTotal Score: {:.2f}'.format(i_episode, score, avg, np.sum(scores_deque)), end=\"\")\n",
    "\n",
    "        if not env_solv and avg >= 0.5:\n",
    "            print(\"\\r\\renvironment is solved in {i_episode} episodes, with average score of {avg:.2f}\\r\".format(i_episode=i_episode, avg=avg))\n",
    "            env_solv = True\n",
    "            for idx, agent in enumerate(agents):\n",
    "                chkpt_path_actor = \"actor_\" + str(idx).zfill(len_agents) + \"_solved.pth\"\n",
    "                torch.save(agent.actor_local.state_dict(), chkpt_path_actor)\n",
    "\n",
    "                chkpt_path_critic = \"critic_\" + str(idx).zfill(len_agents) + \"_solved.pth\"\n",
    "                torch.save(agent.critic_local.state_dict(), chkpt_path_critic)\n",
    "            break\n",
    "        \n",
    "        if i_episode % chkpt_episodes == 0:\n",
    "            print(\"\\n\")\n",
    "            print(\"\\rEpisode: {i_episode}\\t Average Score: {avg:.2f}\".format(i_episode=i_episode, avg=avg))\n",
    "\n",
    "#             for idx, agent in enumerate(agents):\n",
    "#                 chkpt_path_actor = \"actor_\" + str(idx).zfill(len_agents)+\"_\"+str(i_episode)+\".pth\"\n",
    "#                 torch.save(agent.actor_local.state_dict(), chkpt_path_actor)\n",
    "\n",
    "#                 chkpt_path_critic = \"critic_\" + str(idx).zfill(len_agents) +\"_\"+str(i_episode)+\".pth\"\n",
    "#                 torch.save(agent.critic_local.state_dict(), chkpt_path_critic)\n",
    "    return avg_score"
   ]
  },
  {
   "cell_type": "code",
   "execution_count": 10,
   "metadata": {},
   "outputs": [
    {
     "name": "stdout",
     "output_type": "stream",
     "text": [
      "==================================\n",
      "Episode 20\tEpisode Score: 0.10\tAverage Score: 0.01 \tTotal Score: 0.10\n",
      "\n",
      "Episode: 20\t Average Score: 0.01\n",
      "Episode 40\tEpisode Score: 0.09\tAverage Score: 0.01 \tTotal Score: 0.39\n",
      "\n",
      "Episode: 40\t Average Score: 0.01\n",
      "Episode 60\tEpisode Score: 0.00\tAverage Score: 0.01 \tTotal Score: 0.87\n",
      "\n",
      "Episode: 60\t Average Score: 0.01\n",
      "Episode 80\tEpisode Score: 0.00\tAverage Score: 0.01 \tTotal Score: 0.87\n",
      "\n",
      "Episode: 80\t Average Score: 0.01\n",
      "Episode 100\tEpisode Score: 0.00\tAverage Score: 0.01 \tTotal Score: 1.17\n",
      "\n",
      "Episode: 100\t Average Score: 0.01\n",
      "Episode 120\tEpisode Score: 0.00\tAverage Score: 0.01 \tTotal Score: 1.07\n",
      "\n",
      "Episode: 120\t Average Score: 0.01\n",
      "Episode 140\tEpisode Score: 0.00\tAverage Score: 0.01 \tTotal Score: 0.78\n",
      "\n",
      "Episode: 140\t Average Score: 0.01\n",
      "Episode 160\tEpisode Score: 0.09\tAverage Score: 0.00 \tTotal Score: 0.39\n",
      "\n",
      "Episode: 160\t Average Score: 0.00\n",
      "Episode 180\tEpisode Score: 0.00\tAverage Score: 0.01 \tTotal Score: 0.78\n",
      "\n",
      "Episode: 180\t Average Score: 0.01\n",
      "Episode 200\tEpisode Score: 0.00\tAverage Score: 0.00 \tTotal Score: 0.48\n",
      "\n",
      "Episode: 200\t Average Score: 0.00\n",
      "Episode 220\tEpisode Score: 0.00\tAverage Score: 0.00 \tTotal Score: 0.48\n",
      "\n",
      "Episode: 220\t Average Score: 0.00\n",
      "Episode 240\tEpisode Score: 0.00\tAverage Score: 0.00 \tTotal Score: 0.48\n",
      "\n",
      "Episode: 240\t Average Score: 0.00\n",
      "Episode 260\tEpisode Score: 0.00\tAverage Score: 0.00 \tTotal Score: 0.39\n",
      "\n",
      "Episode: 260\t Average Score: 0.00\n",
      "Episode 280\tEpisode Score: 0.00\tAverage Score: 0.00 \tTotal Score: 0.00\n",
      "\n",
      "Episode: 280\t Average Score: 0.00\n",
      "Episode 300\tEpisode Score: 0.00\tAverage Score: 0.00 \tTotal Score: 0.20\n",
      "\n",
      "Episode: 300\t Average Score: 0.00\n",
      "Episode 320\tEpisode Score: 0.00\tAverage Score: 0.00 \tTotal Score: 0.29\n",
      "\n",
      "Episode: 320\t Average Score: 0.00\n",
      "Episode 340\tEpisode Score: 0.00\tAverage Score: 0.00 \tTotal Score: 0.29\n",
      "\n",
      "Episode: 340\t Average Score: 0.00\n",
      "Episode 360\tEpisode Score: 0.00\tAverage Score: 0.00 \tTotal Score: 0.39\n",
      "\n",
      "Episode: 360\t Average Score: 0.00\n",
      "Episode 380\tEpisode Score: 0.00\tAverage Score: 0.00 \tTotal Score: 0.39\n",
      "\n",
      "Episode: 380\t Average Score: 0.00\n",
      "Episode 400\tEpisode Score: 0.00\tAverage Score: 0.00 \tTotal Score: 0.19\n",
      "\n",
      "Episode: 400\t Average Score: 0.00\n",
      "Episode 420\tEpisode Score: 0.00\tAverage Score: 0.00 \tTotal Score: 0.10\n",
      "\n",
      "Episode: 420\t Average Score: 0.00\n",
      "Episode 440\tEpisode Score: 0.00\tAverage Score: 0.00 \tTotal Score: 0.10\n",
      "\n",
      "Episode: 440\t Average Score: 0.00\n",
      "Episode 460\tEpisode Score: 0.00\tAverage Score: 0.00 \tTotal Score: 0.00\n",
      "\n",
      "Episode: 460\t Average Score: 0.00\n",
      "Episode 480\tEpisode Score: 0.00\tAverage Score: 0.00 \tTotal Score: 0.00\n",
      "\n",
      "Episode: 480\t Average Score: 0.00\n",
      "Episode 500\tEpisode Score: 0.00\tAverage Score: 0.00 \tTotal Score: 0.00\n",
      "\n",
      "Episode: 500\t Average Score: 0.00\n",
      "Episode 520\tEpisode Score: 0.00\tAverage Score: 0.00 \tTotal Score: 0.00\n",
      "\n",
      "Episode: 520\t Average Score: 0.00\n",
      "Episode 540\tEpisode Score: 0.09\tAverage Score: 0.00 \tTotal Score: 0.09\n",
      "\n",
      "Episode: 540\t Average Score: 0.00\n",
      "Episode 560\tEpisode Score: 0.00\tAverage Score: 0.00 \tTotal Score: 0.28\n",
      "\n",
      "Episode: 560\t Average Score: 0.00\n",
      "Episode 580\tEpisode Score: 0.09\tAverage Score: 0.00 \tTotal Score: 0.37\n",
      "\n",
      "Episode: 580\t Average Score: 0.00\n",
      "Episode 600\tEpisode Score: 0.00\tAverage Score: 0.02 \tTotal Score: 1.72\n",
      "\n",
      "Episode: 600\t Average Score: 0.02\n",
      "Episode 620\tEpisode Score: 0.09\tAverage Score: 0.03 \tTotal Score: 3.25\n",
      "\n",
      "Episode: 620\t Average Score: 0.03\n",
      "Episode 640\tEpisode Score: 0.09\tAverage Score: 0.05 \tTotal Score: 5.02\n",
      "\n",
      "Episode: 640\t Average Score: 0.05\n",
      "Episode 660\tEpisode Score: 0.20\tAverage Score: 0.09 \tTotal Score: 8.81\n",
      "\n",
      "Episode: 660\t Average Score: 0.09\n",
      "Episode 680\tEpisode Score: 0.10\tAverage Score: 0.15 \tTotal Score: 14.72\n",
      "\n",
      "Episode: 680\t Average Score: 0.15\n",
      "Episode 700\tEpisode Score: 0.30\tAverage Score: 0.24 \tTotal Score: 23.67\n",
      "\n",
      "Episode: 700\t Average Score: 0.24\n",
      "Episode 720\tEpisode Score: 2.10\tAverage Score: 0.44 \tTotal Score: 44.34\n",
      "\n",
      "Episode: 720\t Average Score: 0.44\n",
      "environment is solved in 728 episodes, with average score of 0.51 50.76\n",
      "\n",
      "==================================\n",
      "CPU times: user 45min 21s, sys: 20min 10s, total: 1h 5min 32s\n",
      "Wall time: 22min\n"
     ]
    }
   ],
   "source": [
    "%%time\n",
    "print (\"==================================\")\n",
    "scores = ddpg(n_episodes=2000, max_t=1000)\n",
    "print (\"\\n==================================\")"
   ]
  },
  {
   "cell_type": "code",
   "execution_count": 11,
   "metadata": {},
   "outputs": [
    {
     "data": {
      "image/png": "[encoded data removed]",
      "text/plain": [
       "<Figure size 1152x864 with 1 Axes>"
      ]
     },
     "metadata": {},
     "output_type": "display_data"
    },
    {
     "name": "stdout",
     "output_type": "stream",
     "text": [
      "CPU times: user 252 ms, sys: 104 ms, total: 356 ms\n",
      "Wall time: 208 ms\n"
     ]
    }
   ],
   "source": [
    "%%time\n",
    "# plot the scores\n",
    "fig = plt.figure(figsize=(16, 12))\n",
    "ax = fig.add_subplot(111)\n",
    "plt.plot(np.arange(len(scores)), scores)\n",
    "plt.xlabel('Episode number')\n",
    "plt.ylabel('Score')\n",
    "plt.show()"
   ]
  }
 ],
 "metadata": {
  "kernelspec": {
   "display_name": "Python 3",
   "language": "python",
   "name": "python3"
  },
  "language_info": {
   "codemirror_mode": {
    "name": "ipython",
    "version": 3
   },
   "file_extension": ".py",
   "mimetype": "text/x-python",
   "name": "python",
   "nbconvert_exporter": "python",
   "pygments_lexer": "ipython3",
   "version": "3.6.5"
  }
 },
 "nbformat": 4,
 "nbformat_minor": 2
}
